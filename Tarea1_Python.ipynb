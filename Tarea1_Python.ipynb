{
  "nbformat": 4,
  "nbformat_minor": 0,
  "metadata": {
    "colab": {
      "name": "Tarea1_Python.ipynb",
      "provenance": [],
      "collapsed_sections": []
    },
    "kernelspec": {
      "name": "python3",
      "display_name": "Python 3"
    },
    "language_info": {
      "name": "python"
    }
  },
  "cells": [
    {
      "cell_type": "markdown",
      "metadata": {
        "id": "6OtaZ9NKrhnh"
      },
      "source": [
        "# **Ejercicio 1**"
      ]
    },
    {
      "cell_type": "code",
      "metadata": {
        "colab": {
          "base_uri": "https://localhost:8080/"
        },
        "id": "-SguUbftfumG",
        "outputId": "5f2bec80-8e60-4539-8b6e-cdd25f8ebbb7"
      },
      "source": [
        "Nombre = input(\"Introduce tu nombre: \")\n",
        "Matricula = input(\"Introduce tu matricula: \")\n",
        "print(Nombre,Matricula)"
      ],
      "execution_count": 39,
      "outputs": [
        {
          "output_type": "stream",
          "text": [
            "Introduce tu nombre: Cesar\n",
            "Introduce tu matricula: 1849202\n",
            "Cesar 1849202\n"
          ],
          "name": "stdout"
        }
      ]
    },
    {
      "cell_type": "markdown",
      "metadata": {
        "id": "qw5BQ7Cirxep"
      },
      "source": [
        "# **Ejercicio 2**"
      ]
    },
    {
      "cell_type": "code",
      "metadata": {
        "colab": {
          "base_uri": "https://localhost:8080/"
        },
        "id": "2MFLI3Q1gUD3",
        "outputId": "c700b396-a806-4e89-984b-493865c1cc36"
      },
      "source": [
        "a = float(input(\"Ingresa primer numero: \"))\n",
        "b = float(input(\"Ingresa segundo numero: \"))\n",
        "suma = a + b\n",
        "resta = a - b\n",
        "multi = a*b\n",
        "div = a/b\n",
        "exp = a**b\n",
        "print(suma,resta,multi,div,exp)"
      ],
      "execution_count": 40,
      "outputs": [
        {
          "output_type": "stream",
          "text": [
            "Ingresa primer numero: 3\n",
            "Ingresa segundo numero: 5\n",
            "8.0 -2.0 15.0 0.6 243.0\n"
          ],
          "name": "stdout"
        }
      ]
    },
    {
      "cell_type": "markdown",
      "metadata": {
        "id": "oPUxMFAB23NC"
      },
      "source": [
        "# **Ejercicio 3**"
      ]
    },
    {
      "cell_type": "code",
      "metadata": {
        "colab": {
          "base_uri": "https://localhost:8080/"
        },
        "id": "Bei-SgfmiNow",
        "outputId": "048cb286-a6e3-459f-9568-4833c7f885fa"
      },
      "source": [
        "suma = 0\n",
        "lista = []\n",
        "for i in range(1,11):\n",
        "  mult = i*3 \n",
        "  lista.append(mult)\n",
        "  suma += mult\n",
        "print(lista)\n",
        "print(\"La suma de los numeros es:\",suma)\n",
        "\n",
        "suma2=0\n",
        "for i in lista:\n",
        "  suma2 += i\n",
        "print(\"La suma de los numeros dentro de la lista es:\",suma2)\n"
      ],
      "execution_count": 42,
      "outputs": [
        {
          "output_type": "stream",
          "text": [
            "[3, 6, 9, 12, 15, 18, 21, 24, 27, 30]\n",
            "La suma de los numeros es: 165\n",
            "La suma de los numeros dentro de la lista es: 165\n"
          ],
          "name": "stdout"
        }
      ]
    },
    {
      "cell_type": "markdown",
      "metadata": {
        "id": "nhG9oTFl25bC"
      },
      "source": [
        "# **Ejercicio 4**"
      ]
    },
    {
      "cell_type": "code",
      "metadata": {
        "colab": {
          "base_uri": "https://localhost:8080/"
        },
        "id": "O85nNu9Ik4tp",
        "outputId": "ea95ed7a-a427-49fd-c9cd-b1ddb71ce049"
      },
      "source": [
        "#Con una función de if else, revisar si un número es par o es impar. Con una función de if else, revisar si un número es primo o no.\n",
        "x = int(input(\"Ingresa numero para verificar si es par o impar: \"))\n",
        "y = int(input(\"Ingresa numero para verificar si es primo o no primo: \"))\n",
        "if x%2 == 0:\n",
        "  print(\"Es numero par\")\n",
        "else:\n",
        "  print(\"Es numero impar\")\n",
        "\n",
        "for i in range(2,y):\n",
        "  if y%i == 0 or y == 1:\n",
        "    p=0\n",
        "    break\n",
        "  else:\n",
        "    p=1\n",
        "if p==1 or y==2:\n",
        "  print(\"Es primo\")\n",
        "else:\n",
        "  print(\"No es primo\")\n",
        "\n"
      ],
      "execution_count": 36,
      "outputs": [
        {
          "output_type": "stream",
          "text": [
            "Ingresa numero para verificar si es par o impar: 2\n",
            "Ingresa numero para verificar si es primo o no primo: 1\n",
            "Es numero par\n",
            "Es primo\n"
          ],
          "name": "stdout"
        }
      ]
    },
    {
      "cell_type": "markdown",
      "metadata": {
        "id": "5D3Zuf4027nK"
      },
      "source": [
        "# **Ejercicio 5**"
      ]
    },
    {
      "cell_type": "code",
      "metadata": {
        "colab": {
          "base_uri": "https://localhost:8080/"
        },
        "id": "cTDchGZ4_x0b",
        "outputId": "8ff4ff11-d957-4895-b098-3f06bc4d4a3c"
      },
      "source": [
        "class Calcu():\n",
        "    def __init__(self,a,b):\n",
        "        self.a=a\n",
        "        self.b=b\n",
        "    def suma(self):\n",
        "        return self.a+self.b\n",
        "    def resta(self):\n",
        "        return self.a-self.b\n",
        "    def mult(self):\n",
        "        return self.a*self.b\n",
        "    def div(self):\n",
        "        return self.a/self.b\n",
        "    def exp(self):\n",
        "        return self.a**self.b\n",
        "a=int(input(\"Escribir primer numero: \"))\n",
        "b=int(input(\"Escribir segundo numero: \"))\n",
        "op = Calcu(a,b)\n",
        "print(\"SUMA=0, RESTA=1, MULTI=2, DIVIS=3, EXPO=4\")\n",
        "num = int(input(\"Eliga operacion por hacer: \"))\n",
        "if num == 0:\n",
        "  print(op.suma())\n",
        "elif num == 1:\n",
        "  print(op.resta())\n",
        "elif num == 2:\n",
        "  print(op.mult())\n",
        "elif num == 3:\n",
        "  print(op.div())\n",
        "elif num == 4:\n",
        "  print(op.exp())\n",
        "else:\n",
        "  print(\"Error\")"
      ],
      "execution_count": 231,
      "outputs": [
        {
          "output_type": "stream",
          "text": [
            "Escribir primer numero: 2\n",
            "Escribir segundo numero: 3\n",
            "SUMA=0, RESTA=1, MULTI=2, DIVIS=3, EXPO=4\n",
            "Eliga operacion por hacer: 4\n",
            "8\n"
          ],
          "name": "stdout"
        }
      ]
    },
    {
      "cell_type": "markdown",
      "metadata": {
        "id": "urJFOyqN3UFA"
      },
      "source": [
        "# **Tuplas**"
      ]
    },
    {
      "cell_type": "code",
      "metadata": {
        "colab": {
          "base_uri": "https://localhost:8080/"
        },
        "id": "dWLIIoynaB5B",
        "outputId": "3db0cfee-78c0-4cd8-fac6-899843cd9e95"
      },
      "source": [
        "#Crear una variable flotante, integer, boleana y compleja e imprimir el tipo de variable que es.\n",
        "a1 = 19\n",
        "a2 = 7.5\n",
        "a3 = False\n",
        "a4 = 3j + 2\n",
        "print(\"La variable es:\",type(a1))\n",
        "print(\"La variable es:\",type(a2))\n",
        "print(\"La variable es:\",type(a3))\n",
        "print(\"La variable es:\",type(a4))\n"
      ],
      "execution_count": 22,
      "outputs": [
        {
          "output_type": "stream",
          "text": [
            "La variable es: <class 'int'>\n",
            "La variable es: <class 'float'>\n",
            "La variable es: <class 'bool'>\n",
            "La variable es: <class 'complex'>\n"
          ],
          "name": "stdout"
        }
      ]
    },
    {
      "cell_type": "code",
      "metadata": {
        "colab": {
          "base_uri": "https://localhost:8080/"
        },
        "id": "vn-HW7IDdX4b",
        "outputId": "49ffae4b-e542-4a7f-df07-190c9a6d02b6"
      },
      "source": [
        "#Crear una tupla con valores enteros imprimir el primer y ultimo valor.\n",
        "tup = (9,4,2,3,8)\n",
        "print(\"El primer valor de la tupla es:\",tup[0])\n",
        "print(\"El ultimo valor de la tupla es:\",tup[4])\n",
        "\n"
      ],
      "execution_count": 44,
      "outputs": [
        {
          "output_type": "stream",
          "text": [
            "El primer valor de la tupla es: 9\n",
            "El ultimo valor de la tupla es: 8\n"
          ],
          "name": "stdout"
        }
      ]
    },
    {
      "cell_type": "code",
      "metadata": {
        "id": "yqatBdwfcBKX"
      },
      "source": [
        "#Añadir 3 valores de string a la tupla.\n",
        "tup = tup.__add__((\"Manzana\",\"Pera\",\"Naranja\"))"
      ],
      "execution_count": 45,
      "outputs": []
    },
    {
      "cell_type": "code",
      "metadata": {
        "colab": {
          "base_uri": "https://localhost:8080/"
        },
        "id": "hjVq7fKKeY2a",
        "outputId": "0ddd4734-88cf-41dc-e8a5-2c5533eab08e"
      },
      "source": [
        "#Verificar si una variable existe dentro de la tupla.\n",
        "print(\"Manzana esta en la tupla:\",\"Manzana\" in tup)\n",
        "print(\"6 esta en la tupla:\",6 in tup)\n"
      ],
      "execution_count": 76,
      "outputs": [
        {
          "output_type": "stream",
          "text": [
            "Manzana esta en la tupla: True\n",
            "6 esta en la tupla: False\n"
          ],
          "name": "stdout"
        }
      ]
    },
    {
      "cell_type": "markdown",
      "metadata": {
        "id": "ZyQHvMvI3R61"
      },
      "source": [
        "# **Listas**"
      ]
    },
    {
      "cell_type": "code",
      "metadata": {
        "colab": {
          "base_uri": "https://localhost:8080/"
        },
        "id": "cKnCw9R4hn1F",
        "outputId": "d9001071-9776-4df9-ddce-fb84e77fca15"
      },
      "source": [
        "#Crear una lista con 40 elementos aleatorios enteros.\n",
        "import random as r\n",
        "list1 = []\n",
        "for i in range(0,40):\n",
        "  list1.append(r.randint(1,10000))\n",
        "\n",
        "print(list1)"
      ],
      "execution_count": 195,
      "outputs": [
        {
          "output_type": "stream",
          "text": [
            "[7750, 2835, 1879, 5235, 8712, 4764, 5882, 9952, 9344, 6703, 2287, 6159, 4241, 3802, 5786, 8856, 4308, 4063, 5485, 7000, 6258, 6087, 2735, 4892, 9570, 5932, 7869, 8981, 3979, 4435, 5239, 5273, 1666, 1467, 9390, 5060, 261, 886, 3289, 9127]\n"
          ],
          "name": "stdout"
        }
      ]
    },
    {
      "cell_type": "code",
      "metadata": {
        "colab": {
          "base_uri": "https://localhost:8080/"
        },
        "id": "q-k14mTwjPQh",
        "outputId": "c516c3ec-7e44-48c8-e406-2ff8e9adb944"
      },
      "source": [
        "def ParImpar(list_fun):\n",
        "  list2=list()\n",
        "  list3=list()\n",
        "  for i in range(0,len(list_fun)):\n",
        "    if list_fun[i]%2==0:\n",
        "      list2.append(list_fun[i])\n",
        "    else:\n",
        "      list3.append(list_fun[i])\n",
        "  return((list2),(list3))\n",
        "\n",
        "PoI=Dividir_pares(list1)\n",
        "print(\"Lista de pares:\",PoI[0])\n",
        "print(\"Lista de impares:\",PoI[1])\n",
        "  "
      ],
      "execution_count": 224,
      "outputs": [
        {
          "output_type": "stream",
          "text": [
            "Lista de pares: [7750, 8712, 4764, 5882, 9952, 9344, 3802, 5786, 8856, 4308, 7000, 6258, 4892, 9570, 5932, 1666, 9390, 5060, 886]\n",
            "Lista de impares: [2835, 1879, 5235, 6703, 2287, 6159, 4241, 4063, 5485, 6087, 2735, 7869, 8981, 3979, 4435, 5239, 5273, 1467, 261, 3289, 9127]\n"
          ],
          "name": "stdout"
        }
      ]
    },
    {
      "cell_type": "code",
      "metadata": {
        "colab": {
          "base_uri": "https://localhost:8080/"
        },
        "id": "WHXXWdRArfGk",
        "outputId": "0514b06d-7b69-497d-d93b-8f8102b986ac"
      },
      "source": [
        "#Crear dos variables con la longitud de ambas listas nuevas e imprimir las variables.\n",
        "len1 = len(PoI[0])\n",
        "len2 = len(PoI[1])\n",
        "print(\"Cantidad de numeros en la lista de impares:\",len1)\n",
        "print(\"Cantidad de numeros en la lista de pares:\",len2)"
      ],
      "execution_count": 125,
      "outputs": [
        {
          "output_type": "stream",
          "text": [
            "Cantidad de numeros en la lista de impares: 18\n",
            "Cantidad de numeros en la lista de pares: 22\n"
          ],
          "name": "stdout"
        }
      ]
    },
    {
      "cell_type": "code",
      "metadata": {
        "colab": {
          "base_uri": "https://localhost:8080/"
        },
        "id": "h_fpNio_ssMU",
        "outputId": "9ffea2ef-3388-4f56-c87a-5bcde15bc18a"
      },
      "source": [
        "#Ordenar los elementos de la lista par de mayor a menor, y los de la lista impar de menor a mayor.\n",
        "PoI[0].sort(reverse=True)\n",
        "PoI[1].sort\n",
        "\n",
        "print(\"Mayor a menor:\",Div[0])\n",
        "print(\"Menor a mayor:\",Div[1])"
      ],
      "execution_count": 135,
      "outputs": [
        {
          "output_type": "stream",
          "text": [
            "Mayor a menor: [9990, 9948, 9290, 8762, 7308, 6376, 6322, 6184, 5992, 4652, 4136, 3990, 3438, 3346, 2706, 2652, 2092, 918]\n",
            "Menor a mayor: [2021, 3061, 2313, 6567, 1631, 9271, 4307, 3971, 8833, 6531, 35, 7907, 595, 1465, 3125, 6225, 3629, 5523, 8317, 8083, 5223, 5403]\n"
          ],
          "name": "stdout"
        }
      ]
    },
    {
      "cell_type": "code",
      "metadata": {
        "colab": {
          "base_uri": "https://localhost:8080/"
        },
        "id": "7KMeb7qIttWS",
        "outputId": "112803e3-784b-446b-e64c-1111d43646c8"
      },
      "source": [
        "#Utilizar al menos cuatro de las funciones de listas en python en la lista original de 40 elementos.\n",
        "listpop = list1.pop()\n",
        "print(\"El ultimo elemento borrado de la lista es:\",listpop)\n",
        "listext = list1.extend([listpop])\n",
        "print(\"Lista con el ultimo numero regresado:\",list1)\n",
        "list1.insert(4,6)\n",
        "print(\"Numero agregado en el lugar 5\",list1)\n",
        "list1.remove(6)\n",
        "print(\"Lista eliminando el numero recientemente agregado\",list1)"
      ],
      "execution_count": 198,
      "outputs": [
        {
          "output_type": "stream",
          "text": [
            "El ultimo elemento borrado de la lista es: 9127\n",
            "Lista con el ultimo numero regresado: [7750, 2835, 1879, 5235, 8712, 4764, 5882, 9952, 9344, 6703, 2287, 6159, 4241, 3802, 5786, 8856, 4308, 4063, 5485, 7000, 6258, 6087, 2735, 4892, 9570, 5932, 7869, 8981, 3979, 4435, 5239, 5273, 1666, 1467, 9390, 5060, 261, 886, 3289, 9127]\n",
            "Numero agregado en el lugar 5 [7750, 2835, 1879, 5235, 6, 8712, 4764, 5882, 9952, 9344, 6703, 2287, 6159, 4241, 3802, 5786, 8856, 4308, 4063, 5485, 7000, 6258, 6087, 2735, 4892, 9570, 5932, 7869, 8981, 3979, 4435, 5239, 5273, 1666, 1467, 9390, 5060, 261, 886, 3289, 9127]\n",
            "Lista eliminando el numero recientemente agregado [7750, 2835, 1879, 5235, 8712, 4764, 5882, 9952, 9344, 6703, 2287, 6159, 4241, 3802, 5786, 8856, 4308, 4063, 5485, 7000, 6258, 6087, 2735, 4892, 9570, 5932, 7869, 8981, 3979, 4435, 5239, 5273, 1666, 1467, 9390, 5060, 261, 886, 3289, 9127]\n"
          ],
          "name": "stdout"
        }
      ]
    },
    {
      "cell_type": "markdown",
      "metadata": {
        "id": "FOHibTIs3WdQ"
      },
      "source": [
        "# **Diccionarios**"
      ]
    },
    {
      "cell_type": "code",
      "metadata": {
        "colab": {
          "base_uri": "https://localhost:8080/"
        },
        "id": "ePPipBgP3P4g",
        "outputId": "796cf9ca-63e4-4f28-8b90-57ec7e5209e3"
      },
      "source": [
        "#Crear un diccionario de 6 personas que conozcas con su primer nombre y su edad.\n",
        "dicc1 = {\"Andrea\":22,\"Veronica\":46,\"Cesar\":50,\"Mauricio\":16,\"Oswaldo\":20,\"Juan\":35}\n",
        "print(dicc1)"
      ],
      "execution_count": 188,
      "outputs": [
        {
          "output_type": "stream",
          "text": [
            "{'Andrea': 22, 'Veronica': 46, 'Cesar': 50, 'Mauricio': 16, 'Oswaldo': 20, 'Juan': 35}\n"
          ],
          "name": "stdout"
        }
      ]
    },
    {
      "cell_type": "code",
      "metadata": {
        "colab": {
          "base_uri": "https://localhost:8080/"
        },
        "id": "a7beOqxd4odt",
        "outputId": "fae1de59-e209-4b45-8b9b-29c79043cd23"
      },
      "source": [
        "#Crear una lista con los valores de la edad y reacomodar la lista de menor a mayor valor.\n",
        "listdicc = list(dicc1.values())\n",
        "listdicc.sort(reverse=True)\n",
        "print(listdicc)"
      ],
      "execution_count": 189,
      "outputs": [
        {
          "output_type": "stream",
          "text": [
            "[50, 46, 35, 22, 20, 16]\n"
          ],
          "name": "stdout"
        }
      ]
    },
    {
      "cell_type": "code",
      "metadata": {
        "colab": {
          "base_uri": "https://localhost:8080/"
        },
        "id": "goUGiJnw5v3U",
        "outputId": "54bdcb88-3091-448f-fcec-1157dafb08a5"
      },
      "source": [
        "#Usando el diccionario y un loop, imprimir solo los nombres.\n",
        "for i in dicc1:\n",
        "  print(i)"
      ],
      "execution_count": 190,
      "outputs": [
        {
          "output_type": "stream",
          "text": [
            "Andrea\n",
            "Veronica\n",
            "Cesar\n",
            "Mauricio\n",
            "Oswaldo\n",
            "Juan\n"
          ],
          "name": "stdout"
        }
      ]
    },
    {
      "cell_type": "code",
      "metadata": {
        "colab": {
          "base_uri": "https://localhost:8080/"
        },
        "id": "82ctkvBM6paN",
        "outputId": "c1e773d6-25f3-4f89-a2a3-54cdae3686e7"
      },
      "source": [
        "#Añadir dos personas nuevas a tu diccionario, incluyendo edad.\n",
        "dicc1[\"Pedro\"]=28\n",
        "dicc1[\"Leo\"]=19\n",
        "print(dicc1)"
      ],
      "execution_count": 197,
      "outputs": [
        {
          "output_type": "stream",
          "text": [
            "{'Andrea': 22, 'Veronica': 46, 'Cesar': 50, 'Mauricio': 16, 'Oswaldo': 20, 'Juan': 35, 'Pedro': 28, 'Leo': 19}\n"
          ],
          "name": "stdout"
        }
      ]
    },
    {
      "cell_type": "markdown",
      "metadata": {
        "id": "2sQhxQpG7UkO"
      },
      "source": [
        "# **Sets**"
      ]
    },
    {
      "cell_type": "code",
      "metadata": {
        "colab": {
          "base_uri": "https://localhost:8080/"
        },
        "id": "m8Z4SV5i74u3",
        "outputId": "7e539b20-c449-4f73-a0c3-e63d0231f040"
      },
      "source": [
        "#Crea un set con 100 numeros aleatorios enteros del 1 al 25.\n",
        "import random as r\n",
        "lista=[]\n",
        "for i in range(0,100):\n",
        "  lista.append(r.randint(1,25))\n",
        "set1 = set(lista)\n",
        "print(set1)"
      ],
      "execution_count": 211,
      "outputs": [
        {
          "output_type": "stream",
          "text": [
            "{1, 2, 3, 4, 5, 6, 7, 8, 9, 10, 11, 12, 13, 14, 15, 16, 17, 18, 19, 20, 21, 22, 23, 24, 25}\n"
          ],
          "name": "stdout"
        }
      ]
    },
    {
      "cell_type": "code",
      "metadata": {
        "colab": {
          "base_uri": "https://localhost:8080/"
        },
        "id": "2SZjA81Q9Ed7",
        "outputId": "2f2d3b9f-75dd-4562-d633-5ee332105afb"
      },
      "source": [
        "len(set1)"
      ],
      "execution_count": 204,
      "outputs": [
        {
          "output_type": "execute_result",
          "data": {
            "text/plain": [
              "25"
            ]
          },
          "metadata": {},
          "execution_count": 204
        }
      ]
    },
    {
      "cell_type": "code",
      "metadata": {
        "colab": {
          "base_uri": "https://localhost:8080/"
        },
        "id": "f3u6DnSr9GBs",
        "outputId": "a836e556-8bf3-4da0-ad61-33bad62808ed"
      },
      "source": [
        "#Crea una lista de 5 numeros aleatorios del 1 al 10 y comprueba si cada valor aparece en el set inicial.\n",
        "import random as r\n",
        "lista2=[]\n",
        "for i in range(0,5):\n",
        "  lista2.append(r.randint(1,10))\n",
        "print(lista2)\n",
        "\n",
        "for i in range(0,5):\n",
        "  if lista2[i] in set1:\n",
        "    print(\"Si esta el numero\")"
      ],
      "execution_count": 222,
      "outputs": [
        {
          "output_type": "stream",
          "text": [
            "[2, 9, 7, 1, 5]\n",
            "Si esta el numero\n",
            "Si esta el numero\n",
            "Si esta el numero\n",
            "Si esta el numero\n",
            "Si esta el numero\n"
          ],
          "name": "stdout"
        }
      ]
    }
  ]
}