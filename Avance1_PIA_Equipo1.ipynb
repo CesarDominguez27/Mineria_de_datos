{
  "nbformat": 4,
  "nbformat_minor": 0,
  "metadata": {
    "colab": {
      "name": "Avance1_PIA_Equipo1.ipynb",
      "provenance": [],
      "collapsed_sections": []
    },
    "kernelspec": {
      "name": "python3",
      "display_name": "Python 3"
    },
    "language_info": {
      "name": "python"
    }
  },
  "cells": [
    {
      "cell_type": "markdown",
      "metadata": {
        "id": "MwerqVybvkEU"
      },
      "source": [
        "# **Primer Avance PIA**\n",
        "Equipo 1\n",
        "\n",
        "Grupo 002 Miércoles 7-10 PM\n",
        "\n",
        "Integrantes:\n",
        "\n",
        "\n",
        "*   1851448 Muñoz Barrientos Regina\n",
        "*   1941592 Lagos Martinez José Alejandro\n",
        "*   1793775 Rodriguez Guerrero Luisa Victoria\n",
        "*   1849202 Dominguez Victorino Cesar Oswaldo\n",
        "\n",
        "\n",
        "**BASE DE DATOS: Heart Disease UCI**\n",
        "\n",
        "https://www.kaggle.com/ronitf/heart-disease-uci\n",
        "\n",
        " **Introducción.**\n",
        "\n",
        "El corazón es uno de los órganos más importantes ya que bombea sangre y suministra oxígeno y nutrientes a todo el cuerpo. Como cumple con estas funciones tan cruciales su bienestar es de suma importancia. En las Américas, se estima que 1.9 millones de personas fallecen al año por enfermedades cardiovasculares y muchas de ellas sin ser diagnosticadas o tratadas. Una herramienta que explore datos sobre la salud de un paciente y datos sobre su corazón podría ayudar a reducir el tiempo en el que a éste se le brinde un diagnóstico y así iniciar tratamiento correspondiente lo más pronto posible, incrementando sus posibilidades de recuperación e incluso prevenir la muerte.\n",
        "\n",
        "**Descripción de los datos.**\n",
        "\n",
        "Se cuenta con una base de datos de tipo .csv con 303 filas, cada fila contiene información real por paciente y contiene 14 columnas, las columnas son las siguientes:\n",
        "\n",
        "*   **age:**  La edad del paciente en años.\n",
        "*   **sex:** El sexo del paciente siendo 1 = hombre y  0 = mujer.\n",
        "*   **cp:** el tipo de dolor en el pecho que experimenta el paciente: (Valor 1: angina típica, Valor 2: angina atípica, Valor 3: dolor no anginoso, Valor 4: asintomático).\n",
        "*   **trestbps:** La presión sanguínea en mmHg tomada al momento de admisión al hospital.\n",
        "*   **chol:** La medida de colesterol en mg/dl\n",
        "*   **fbs:** “Fasting Blood Sugar” es decir el nivel de azúcar en la sangre de la persona en ayunas, si es mayor de 120 mg/dl se le asigna el valor de 1, de lo contrario se le asigna el valor de 0 (> 120 mg/dl, 1 = true; 0 = false).\n",
        "*   **restecg:** Medición electrocardiográfica en reposo (0 = normal, 1 = con anomalía de la onda ST-T, 2 = muestra una probable o definitiva hipertrofia ventricular izquierda según los criterios de Estes)\n",
        "*   **thalach:** El ritmo cardíaco máximo alcanzado por el paciente en latidos por minuto.\n",
        "*   **exang:** Angina de pecho por ejercicio (1 = si se tiene el sintoma; 0 = no se tiene)\n",
        "*   **oldpeak:** Depresión del ST inducida por el ejercicio en relación con el reposo.\n",
        "*   **slope:** la pendiente del pico del segmento ST de ejercicio (Valor 1: pendiente ascendente, Valor 2: plano, Valor 3: pendiente descendente)\n",
        "*   **ca:** El número de vasos principales (0-3)\n",
        "*   **thal:** Un trastorno sanguíneo llamado talasemia (1 = normal; 2 = defecto fijo; 3 = defecto reversible)\n",
        "*   **target:** El paciente tiene una enfermedad del corazón  (0 = no, 1 = si)\n",
        "\n",
        "**Justificación del uso de datos.**\n",
        "\n",
        "Debido a que en México y en el mundo, la cantidad de personas que fallecen gracias a una enfermedad del corazón es enorme, por lo que, hacer uso de datos para crear un plan de prevención es importante.\n",
        "Dentro de la base de datos se encuentra información que es útil en la busca de la prevención y trata de dichas enfermedades de corazón, como lo son la edad del paciente, el tipo de dolor de pecho, la presión sanguínea al momento de presentar dolor, si se pudo o no tratar la enfermedad presentada en un paciente, entre otros aspectos importantes. Además de esto, otro factor favorable que se notó al hacer uso de estos datos, es la importancia que tiene cada uno de ellos hacia el proyecto, su fácil entendimiento y manipulación,  y a su vez el impacto favorable que tendrá para el cumplimiento del objetivo principal.\n",
        "\n",
        "Una gran oportunidad para crear un método de contingencia en caso de que un paciente presente alguno de estos síntomas junto con sus características, debido a la complejidad de diagnóstico de una enfermedad cardiaca cada dato presentado es importante en la contribución de la resolución del problema planteado. Como ya fue mencionado, debido al entendimiento que se logró de cada columna de datos, podemos manejarlos de una forma eficiente y que cumpla con lo que se busca lograr.\n",
        "\n",
        "**Objetivo final.**\n",
        "Identificar diagnóstico sobre enfermedad de corazón según los resultados de los exámenes y datos biométricos del paciente.\n",
        "\n",
        "**Preguntas de interés.**\n",
        "\n",
        "¿Cuál es el dato que más influye al momento de realizar un diagnóstico donde se presenta una enfermedad del corazón?\n",
        "\n",
        "¿Existen casos donde un paciente presente alarmantes indicadores de mala salud (azúcar alta, presión muy alta o muy baja, entre otros), pero no se diagnostique una enfermedad del corazón?\n",
        "\n",
        "¿Hay un motivo por el cual algún grupo de edad o sexo sea más propenso a presentar problemas cardiacos?\n",
        "\n",
        "**Programación.**\n",
        "\n",
        "Primero se muestra la base de datos original."
      ]
    },
    {
      "cell_type": "code",
      "metadata": {
        "colab": {
          "base_uri": "https://localhost:8080/",
          "height": 204
        },
        "id": "_Mui-qAdvn6D",
        "outputId": "66e3d3f8-09af-47c6-da63-5be15d74f27c"
      },
      "source": [
        "import pandas as pd\n",
        "import numpy as np\n",
        "df = pd.read_csv(\"heart.csv\")\n",
        "df = pd.read_csv(\"heart.csv\",encoding='utf8')\n",
        "df.head()"
      ],
      "execution_count": null,
      "outputs": [
        {
          "output_type": "execute_result",
          "data": {
            "text/html": [
              "<div>\n",
              "<style scoped>\n",
              "    .dataframe tbody tr th:only-of-type {\n",
              "        vertical-align: middle;\n",
              "    }\n",
              "\n",
              "    .dataframe tbody tr th {\n",
              "        vertical-align: top;\n",
              "    }\n",
              "\n",
              "    .dataframe thead th {\n",
              "        text-align: right;\n",
              "    }\n",
              "</style>\n",
              "<table border=\"1\" class=\"dataframe\">\n",
              "  <thead>\n",
              "    <tr style=\"text-align: right;\">\n",
              "      <th></th>\n",
              "      <th>age</th>\n",
              "      <th>sex</th>\n",
              "      <th>cp</th>\n",
              "      <th>trestbps</th>\n",
              "      <th>chol</th>\n",
              "      <th>fbs</th>\n",
              "      <th>restecg</th>\n",
              "      <th>thalach</th>\n",
              "      <th>exang</th>\n",
              "      <th>oldpeak</th>\n",
              "      <th>slope</th>\n",
              "      <th>ca</th>\n",
              "      <th>thal</th>\n",
              "      <th>target</th>\n",
              "    </tr>\n",
              "  </thead>\n",
              "  <tbody>\n",
              "    <tr>\n",
              "      <th>0</th>\n",
              "      <td>63</td>\n",
              "      <td>1</td>\n",
              "      <td>3</td>\n",
              "      <td>145</td>\n",
              "      <td>233</td>\n",
              "      <td>1</td>\n",
              "      <td>0</td>\n",
              "      <td>150</td>\n",
              "      <td>0</td>\n",
              "      <td>2.3</td>\n",
              "      <td>0</td>\n",
              "      <td>0</td>\n",
              "      <td>1</td>\n",
              "      <td>1</td>\n",
              "    </tr>\n",
              "    <tr>\n",
              "      <th>1</th>\n",
              "      <td>37</td>\n",
              "      <td>1</td>\n",
              "      <td>2</td>\n",
              "      <td>130</td>\n",
              "      <td>250</td>\n",
              "      <td>0</td>\n",
              "      <td>1</td>\n",
              "      <td>187</td>\n",
              "      <td>0</td>\n",
              "      <td>3.5</td>\n",
              "      <td>0</td>\n",
              "      <td>0</td>\n",
              "      <td>2</td>\n",
              "      <td>1</td>\n",
              "    </tr>\n",
              "    <tr>\n",
              "      <th>2</th>\n",
              "      <td>41</td>\n",
              "      <td>0</td>\n",
              "      <td>1</td>\n",
              "      <td>130</td>\n",
              "      <td>204</td>\n",
              "      <td>0</td>\n",
              "      <td>0</td>\n",
              "      <td>172</td>\n",
              "      <td>0</td>\n",
              "      <td>1.4</td>\n",
              "      <td>2</td>\n",
              "      <td>0</td>\n",
              "      <td>2</td>\n",
              "      <td>1</td>\n",
              "    </tr>\n",
              "    <tr>\n",
              "      <th>3</th>\n",
              "      <td>56</td>\n",
              "      <td>1</td>\n",
              "      <td>1</td>\n",
              "      <td>120</td>\n",
              "      <td>236</td>\n",
              "      <td>0</td>\n",
              "      <td>1</td>\n",
              "      <td>178</td>\n",
              "      <td>0</td>\n",
              "      <td>0.8</td>\n",
              "      <td>2</td>\n",
              "      <td>0</td>\n",
              "      <td>2</td>\n",
              "      <td>1</td>\n",
              "    </tr>\n",
              "    <tr>\n",
              "      <th>4</th>\n",
              "      <td>57</td>\n",
              "      <td>0</td>\n",
              "      <td>0</td>\n",
              "      <td>120</td>\n",
              "      <td>354</td>\n",
              "      <td>0</td>\n",
              "      <td>1</td>\n",
              "      <td>163</td>\n",
              "      <td>1</td>\n",
              "      <td>0.6</td>\n",
              "      <td>2</td>\n",
              "      <td>0</td>\n",
              "      <td>2</td>\n",
              "      <td>1</td>\n",
              "    </tr>\n",
              "  </tbody>\n",
              "</table>\n",
              "</div>"
            ],
            "text/plain": [
              "   age  sex  cp  trestbps  chol  fbs  ...  exang  oldpeak  slope  ca  thal  target\n",
              "0   63    1   3       145   233    1  ...      0      2.3      0   0     1       1\n",
              "1   37    1   2       130   250    0  ...      0      3.5      0   0     2       1\n",
              "2   41    0   1       130   204    0  ...      0      1.4      2   0     2       1\n",
              "3   56    1   1       120   236    0  ...      0      0.8      2   0     2       1\n",
              "4   57    0   0       120   354    0  ...      1      0.6      2   0     2       1\n",
              "\n",
              "[5 rows x 14 columns]"
            ]
          },
          "metadata": {},
          "execution_count": 1
        }
      ]
    },
    {
      "cell_type": "markdown",
      "metadata": {
        "id": "uGR2wtI3vqWM"
      },
      "source": [
        "El primer cambio que se realizó fue renombrar las columnas para un entendimiento más claro."
      ]
    },
    {
      "cell_type": "code",
      "metadata": {
        "colab": {
          "base_uri": "https://localhost:8080/",
          "height": 224
        },
        "id": "3gMV5y_PvtKM",
        "outputId": "05da3684-0144-4cf6-c173-5a813ccce96d"
      },
      "source": [
        "df.columns = ['Edad','Sexo','DolorPecho','PresArtRep','Col','NivAzuAyu','Electro','MaxRitCard','Angina','MinElectro','Pendiente','NumVasSang','thal','Objetivo']\n",
        "df.head()"
      ],
      "execution_count": null,
      "outputs": [
        {
          "output_type": "execute_result",
          "data": {
            "text/html": [
              "<div>\n",
              "<style scoped>\n",
              "    .dataframe tbody tr th:only-of-type {\n",
              "        vertical-align: middle;\n",
              "    }\n",
              "\n",
              "    .dataframe tbody tr th {\n",
              "        vertical-align: top;\n",
              "    }\n",
              "\n",
              "    .dataframe thead th {\n",
              "        text-align: right;\n",
              "    }\n",
              "</style>\n",
              "<table border=\"1\" class=\"dataframe\">\n",
              "  <thead>\n",
              "    <tr style=\"text-align: right;\">\n",
              "      <th></th>\n",
              "      <th>Edad</th>\n",
              "      <th>Sexo</th>\n",
              "      <th>DolorPecho</th>\n",
              "      <th>PresArtRep</th>\n",
              "      <th>Col</th>\n",
              "      <th>NivAzuAyu</th>\n",
              "      <th>Electro</th>\n",
              "      <th>MaxRitCard</th>\n",
              "      <th>Angina</th>\n",
              "      <th>MinElectro</th>\n",
              "      <th>Pendiente</th>\n",
              "      <th>NumVasSang</th>\n",
              "      <th>thal</th>\n",
              "      <th>Objetivo</th>\n",
              "    </tr>\n",
              "  </thead>\n",
              "  <tbody>\n",
              "    <tr>\n",
              "      <th>0</th>\n",
              "      <td>63</td>\n",
              "      <td>1</td>\n",
              "      <td>3</td>\n",
              "      <td>145</td>\n",
              "      <td>233</td>\n",
              "      <td>1</td>\n",
              "      <td>0</td>\n",
              "      <td>150</td>\n",
              "      <td>0</td>\n",
              "      <td>2.3</td>\n",
              "      <td>0</td>\n",
              "      <td>0</td>\n",
              "      <td>1</td>\n",
              "      <td>1</td>\n",
              "    </tr>\n",
              "    <tr>\n",
              "      <th>1</th>\n",
              "      <td>37</td>\n",
              "      <td>1</td>\n",
              "      <td>2</td>\n",
              "      <td>130</td>\n",
              "      <td>250</td>\n",
              "      <td>0</td>\n",
              "      <td>1</td>\n",
              "      <td>187</td>\n",
              "      <td>0</td>\n",
              "      <td>3.5</td>\n",
              "      <td>0</td>\n",
              "      <td>0</td>\n",
              "      <td>2</td>\n",
              "      <td>1</td>\n",
              "    </tr>\n",
              "    <tr>\n",
              "      <th>2</th>\n",
              "      <td>41</td>\n",
              "      <td>0</td>\n",
              "      <td>1</td>\n",
              "      <td>130</td>\n",
              "      <td>204</td>\n",
              "      <td>0</td>\n",
              "      <td>0</td>\n",
              "      <td>172</td>\n",
              "      <td>0</td>\n",
              "      <td>1.4</td>\n",
              "      <td>2</td>\n",
              "      <td>0</td>\n",
              "      <td>2</td>\n",
              "      <td>1</td>\n",
              "    </tr>\n",
              "    <tr>\n",
              "      <th>3</th>\n",
              "      <td>56</td>\n",
              "      <td>1</td>\n",
              "      <td>1</td>\n",
              "      <td>120</td>\n",
              "      <td>236</td>\n",
              "      <td>0</td>\n",
              "      <td>1</td>\n",
              "      <td>178</td>\n",
              "      <td>0</td>\n",
              "      <td>0.8</td>\n",
              "      <td>2</td>\n",
              "      <td>0</td>\n",
              "      <td>2</td>\n",
              "      <td>1</td>\n",
              "    </tr>\n",
              "    <tr>\n",
              "      <th>4</th>\n",
              "      <td>57</td>\n",
              "      <td>0</td>\n",
              "      <td>0</td>\n",
              "      <td>120</td>\n",
              "      <td>354</td>\n",
              "      <td>0</td>\n",
              "      <td>1</td>\n",
              "      <td>163</td>\n",
              "      <td>1</td>\n",
              "      <td>0.6</td>\n",
              "      <td>2</td>\n",
              "      <td>0</td>\n",
              "      <td>2</td>\n",
              "      <td>1</td>\n",
              "    </tr>\n",
              "  </tbody>\n",
              "</table>\n",
              "</div>"
            ],
            "text/plain": [
              "   Edad  Sexo  DolorPecho  PresArtRep  ...  Pendiente  NumVasSang  thal  Objetivo\n",
              "0    63     1           3         145  ...          0           0     1         1\n",
              "1    37     1           2         130  ...          0           0     2         1\n",
              "2    41     0           1         130  ...          2           0     2         1\n",
              "3    56     1           1         120  ...          2           0     2         1\n",
              "4    57     0           0         120  ...          2           0     2         1\n",
              "\n",
              "[5 rows x 14 columns]"
            ]
          },
          "metadata": {},
          "execution_count": 3
        }
      ]
    },
    {
      "cell_type": "markdown",
      "metadata": {
        "id": "e1CXYLKNvv8E"
      },
      "source": [
        "Después se escaneó la base de datos en busca de datos nulos y se descubrio que no existía ninguno."
      ]
    },
    {
      "cell_type": "code",
      "metadata": {
        "colab": {
          "base_uri": "https://localhost:8080/"
        },
        "id": "mvx3x_arvyQ5",
        "outputId": "3ac32b5d-1c61-4239-871f-a0f7702de4d5"
      },
      "source": [
        "df.isnull().sum()"
      ],
      "execution_count": null,
      "outputs": [
        {
          "output_type": "execute_result",
          "data": {
            "text/plain": [
              "Edad          0\n",
              "Sexo          0\n",
              "DolorPecho    0\n",
              "PresArtRep    0\n",
              "Col           0\n",
              "NivAzuAyu     0\n",
              "Electro       0\n",
              "MaxRitCard    0\n",
              "Angina        0\n",
              "MinElectro    0\n",
              "Pendiente     0\n",
              "NumVasSang    0\n",
              "thal          0\n",
              "Objetivo      0\n",
              "dtype: int64"
            ]
          },
          "metadata": {},
          "execution_count": 4
        }
      ]
    },
    {
      "cell_type": "markdown",
      "metadata": {
        "id": "sNTcym1qv0c0"
      },
      "source": [
        "Sin embargo, se descubrieron algunas inconformidades entre los datos y la explicacion ofrecida en la publicación, por lo que se investigó y se encontró que los datos fueron obtenidos de las bases de datos del hospital de Cleveland y comparando estas dos bases se descubrió que si existían datos nulos en la original y en la utilizada habían sido llenados con otros valores por lo que se decidió eliminar las filas que contenían estos datos nulos.\n",
        "\n",
        "Esta información se consiguió en este foro de discusión: [https://www.kaggle.com/ronitf/heart-disease-uci/discussion/105877](https://www.kaggle.com/ronitf/heart-disease-uci/discussion/105877)"
      ]
    },
    {
      "cell_type": "code",
      "metadata": {
        "id": "P7hAX74tv2n1"
      },
      "source": [
        "df1=df.drop(df[df['NumVasSang'] == 4].index)\n",
        "df1=df1.drop(df1[df1['thal'] == 0].index)"
      ],
      "execution_count": null,
      "outputs": []
    },
    {
      "cell_type": "markdown",
      "metadata": {
        "id": "Vq54cwYPv49-"
      },
      "source": [
        "Se consideró que todas las columnas serán de utilidad por lo que no se eliminó ninguna. Y por último se descargó el archivo limpiado."
      ]
    },
    {
      "cell_type": "code",
      "metadata": {
        "id": "-2JqPc9tv77s"
      },
      "source": [
        "df1.to_csv(\"/content/HeartLimpio.csv\",index=False)"
      ],
      "execution_count": null,
      "outputs": []
    },
    {
      "cell_type": "markdown",
      "metadata": {
        "id": "h_vPfDl4wBPi"
      },
      "source": [
        "**BASE DE DATOS: Instagram fake and real accounts dataset**\n",
        "\n",
        "https://www.kaggle.com/rezaunderfit/instagram-fake-and-real-accounts-dataset\n",
        "\n",
        "**Introducción.**\n",
        "\n",
        "Instagram es una aplicación y red social que permite a los usuarios subir imágenes y videos para la misma plataforma o para subirla a otras redes. La plataforma cuenta con más de 1000 millones de usuarios y se ubica en el sexto lugar del ranking de las redes sociales más famosas del mundo. Se ha logrado posicionar como favorita sobre todo entre los adolescentes. En una aplicación de tanta popularidad y con tantos usuarios existe la posibilidad de ver cuentas falsas y cuentas bots, es decir cuentas generadas en masa por una computadora que no son personas reales y cuentas de suplantación de identidad o con imágenes de otras personas sin su consentimiento. Los propósitos de las cuentas falsas o como se les llama comúnmente “cuentas fake” se encuentran entre generar daño o acosar a una persona concreta, dañar a la comunidad social en general e incluso para ganar seguidores rápidamente haciendo que las cuentas fake sigan a una misma persona. Una herramienta que ayude a identificar cuentas falsas podría ser útil para prevenir un desvío en el algoritmo de recomendación de la aplicación, además de proteger a los usuarios reales de algún tipo de acoso o situación que atente contra su seguridad. \n",
        "\n",
        "**Descripción de los datos.**\n",
        "\n",
        "La base de datos cuenta con la información de 785 cuentas de Instagram y 13 columnas las cuales son:\n",
        "\n",
        "\n",
        "*   **Edge_followed_by:** Cantidad que expresa la razón de las cuentas que siguen a la cuenta.\n",
        "*   **Edge_follow:** Cantidad que expresa la razón de cuentas seguidas por la cuenta.\n",
        "*   **Username_length:** Número entero que dice cuantos caracteres tiene el usuario de la cuenta.\n",
        "*   **Username_has_number:** Dato dictado en 0 y 1, donde 0 sería falso y 1 verdadero a la afirmación: “El username tiene números”.\n",
        "*   **Full_name_has_number:** Dato dictado en 0 y 1, donde 0 sería falso y 1 verdadero a la afirmación: “El nombre de la cuenta tiene números”.\n",
        "*   **Full_name_length:** Número entero que dice cuantos caracteres tiene el nombre de la cuenta. \n",
        "*   **Is_private:** Dato dictado en 0 y 1, donde 0 sería falso y 1 verdadero a la afirmación: “La cuenta es privada”.\n",
        "*   **Is_joined_recently:** Dato dictado en 0 y 1, donde 0 sería falso y 1 verdadero a la afirmación: “La cuenta se creó recientemente (hace menos de 6 meses)”. \n",
        "*   **Has_channel:** Dato dictado en 0 y 1, donde 0 sería falso y 1 verdadero a la afirmación: “La cuenta tiene un canal asociado”. \n",
        "*   **Is_business_account:** Dato dictado en 0 y 1, donde 0 sería falso y 1 verdadero a la afirmación: “La cuenta está registrada como cuenta de negocios”.\n",
        "*   **Has_guides:** Dato dictado en 0 y 1, donde 0 sería falso y 1 verdadero a la afirmación: “La cuenta tiene guías”. \n",
        "*   **Has_external_url:** Dato dictado en 0 y 1, donde 0 sería falso y 1 verdadero a la afirmación: “La cuenta tiene un url externo asociado”. \n",
        "*   **Is_fake:** Dato dictado en 0 y 1, donde 0 sería falso y 1 verdadero a la afirmación: “La cuenta es falsa”. \n",
        "\n",
        "**Justificación del uso de datos.**\n",
        "\n",
        "Las cuentas falsas o “bots” en instagram se ha vuelto un grave problema ultimamente, pues al inflar cuentas reales haciendo uso de estas cuentas hace que el algoritmo de orden de publicaciones que se muestran a un usuario no funcione como debería, además de que muchas veces se usan estas cuentas para bombardear usuarios haciendo que tengan que eliminar su cuenta y abrir una nueva perdiendo sus seguidores. \n",
        "Esta base contiene los datos necesarios para encontrar un patrón en las características de estas cuentas así al compararlas con cuentas reales sea fácilmente discernirlas.\n",
        "Trabajando con estos datos se puede crear un forma más rápida de encontrar y reportar este tipo de cuentas para así poco a poco ir depurando la plataforma de las cuentas “bots”.\n",
        "\n",
        "**Objetivo final.**\n",
        "\n",
        "Identificar si una cuenta de Instagram es falsa con base en un patrón determinado a partir de las características de la base de datos de cuentas falsas.\n",
        "\n",
        "**Preguntas de interés.**\n",
        "\n",
        "¿Hay cuentas falsas que son privadas?\n",
        "\n",
        "¿Existen características de una cuenta que influyen, independientemente del contenido que suban, en la cantidad de seguidores que pueden tener?\n",
        "\n",
        "**Programacion.**\n"
      ]
    },
    {
      "cell_type": "markdown",
      "metadata": {
        "id": "yFuRbc67wGYU"
      },
      "source": [
        "Primero se muestra la base de datos original."
      ]
    },
    {
      "cell_type": "code",
      "metadata": {
        "colab": {
          "base_uri": "https://localhost:8080/",
          "height": 224
        },
        "id": "RClBE87-wLyM",
        "outputId": "1dcea821-01ac-4be7-d6e0-72418a0c01f0"
      },
      "source": [
        "import pandas as pd\n",
        "import numpy as np\n",
        "import json \n",
        "dfo = pd.read_csv(\"FakeAndRealAccounts.csv\")\n",
        "dfo = pd.read_csv(\"FakeAndRealAccounts.csv\",encoding='utf8')\n",
        "dfo.head()"
      ],
      "execution_count": 2,
      "outputs": [
        {
          "output_type": "execute_result",
          "data": {
            "text/html": [
              "<div>\n",
              "<style scoped>\n",
              "    .dataframe tbody tr th:only-of-type {\n",
              "        vertical-align: middle;\n",
              "    }\n",
              "\n",
              "    .dataframe tbody tr th {\n",
              "        vertical-align: top;\n",
              "    }\n",
              "\n",
              "    .dataframe thead th {\n",
              "        text-align: right;\n",
              "    }\n",
              "</style>\n",
              "<table border=\"1\" class=\"dataframe\">\n",
              "  <thead>\n",
              "    <tr style=\"text-align: right;\">\n",
              "      <th></th>\n",
              "      <th>edge_followed_by</th>\n",
              "      <th>edge_follow</th>\n",
              "      <th>username_length</th>\n",
              "      <th>username_has_number</th>\n",
              "      <th>full_name_has_number</th>\n",
              "      <th>full_name_length</th>\n",
              "      <th>is_private</th>\n",
              "      <th>is_joined_recently</th>\n",
              "      <th>has_channel</th>\n",
              "      <th>is_business_account</th>\n",
              "      <th>has_guides</th>\n",
              "      <th>has_external_url</th>\n",
              "      <th>is_fake</th>\n",
              "    </tr>\n",
              "  </thead>\n",
              "  <tbody>\n",
              "    <tr>\n",
              "      <th>0</th>\n",
              "      <td>0.001</td>\n",
              "      <td>0.257</td>\n",
              "      <td>13</td>\n",
              "      <td>1</td>\n",
              "      <td>1</td>\n",
              "      <td>13</td>\n",
              "      <td>0</td>\n",
              "      <td>0</td>\n",
              "      <td>0</td>\n",
              "      <td>0</td>\n",
              "      <td>0</td>\n",
              "      <td>0</td>\n",
              "      <td>1</td>\n",
              "    </tr>\n",
              "    <tr>\n",
              "      <th>1</th>\n",
              "      <td>0.000</td>\n",
              "      <td>0.958</td>\n",
              "      <td>9</td>\n",
              "      <td>1</td>\n",
              "      <td>0</td>\n",
              "      <td>0</td>\n",
              "      <td>0</td>\n",
              "      <td>1</td>\n",
              "      <td>0</td>\n",
              "      <td>0</td>\n",
              "      <td>0</td>\n",
              "      <td>0</td>\n",
              "      <td>1</td>\n",
              "    </tr>\n",
              "    <tr>\n",
              "      <th>2</th>\n",
              "      <td>0.000</td>\n",
              "      <td>0.253</td>\n",
              "      <td>12</td>\n",
              "      <td>0</td>\n",
              "      <td>0</td>\n",
              "      <td>0</td>\n",
              "      <td>0</td>\n",
              "      <td>0</td>\n",
              "      <td>0</td>\n",
              "      <td>0</td>\n",
              "      <td>0</td>\n",
              "      <td>0</td>\n",
              "      <td>1</td>\n",
              "    </tr>\n",
              "    <tr>\n",
              "      <th>3</th>\n",
              "      <td>0.000</td>\n",
              "      <td>0.977</td>\n",
              "      <td>10</td>\n",
              "      <td>1</td>\n",
              "      <td>0</td>\n",
              "      <td>0</td>\n",
              "      <td>0</td>\n",
              "      <td>0</td>\n",
              "      <td>0</td>\n",
              "      <td>0</td>\n",
              "      <td>0</td>\n",
              "      <td>0</td>\n",
              "      <td>1</td>\n",
              "    </tr>\n",
              "    <tr>\n",
              "      <th>4</th>\n",
              "      <td>0.000</td>\n",
              "      <td>0.321</td>\n",
              "      <td>11</td>\n",
              "      <td>0</td>\n",
              "      <td>0</td>\n",
              "      <td>11</td>\n",
              "      <td>1</td>\n",
              "      <td>0</td>\n",
              "      <td>0</td>\n",
              "      <td>0</td>\n",
              "      <td>0</td>\n",
              "      <td>0</td>\n",
              "      <td>1</td>\n",
              "    </tr>\n",
              "  </tbody>\n",
              "</table>\n",
              "</div>"
            ],
            "text/plain": [
              "   edge_followed_by  edge_follow  ...  has_external_url  is_fake\n",
              "0             0.001        0.257  ...                 0        1\n",
              "1             0.000        0.958  ...                 0        1\n",
              "2             0.000        0.253  ...                 0        1\n",
              "3             0.000        0.977  ...                 0        1\n",
              "4             0.000        0.321  ...                 0        1\n",
              "\n",
              "[5 rows x 13 columns]"
            ]
          },
          "metadata": {},
          "execution_count": 2
        }
      ]
    },
    {
      "cell_type": "markdown",
      "metadata": {
        "id": "S0U6T5gRwUVj"
      },
      "source": [
        "No se cambió el nombre de ninguna columna pues se consideran claros. Se considero que todas las columnas brindan información relevante para el problema. "
      ]
    },
    {
      "cell_type": "markdown",
      "metadata": {
        "id": "KIb2IkgfwZlk"
      },
      "source": [
        "Después se escaneó la base de datos en busca de datos nulos y se descubrió que no existía ninguno."
      ]
    },
    {
      "cell_type": "code",
      "metadata": {
        "colab": {
          "base_uri": "https://localhost:8080/"
        },
        "id": "W4ik2tTqwbrz",
        "outputId": "efee3e61-b516-4474-c844-b2f464b9df51"
      },
      "source": [
        " dfo.isnull().sum()"
      ],
      "execution_count": 3,
      "outputs": [
        {
          "output_type": "execute_result",
          "data": {
            "text/plain": [
              "edge_followed_by        0\n",
              "edge_follow             0\n",
              "username_length         0\n",
              "username_has_number     0\n",
              "full_name_has_number    0\n",
              "full_name_length        0\n",
              "is_private              0\n",
              "is_joined_recently      0\n",
              "has_channel             0\n",
              "is_business_account     0\n",
              "has_guides              0\n",
              "has_external_url        0\n",
              "is_fake                 0\n",
              "dtype: int64"
            ]
          },
          "metadata": {},
          "execution_count": 3
        }
      ]
    },
    {
      "cell_type": "markdown",
      "metadata": {
        "id": "74HYQozp4fkO"
      },
      "source": [
        "Se creó una base de datos solo con las cuentas que resultaron ser falsas"
      ]
    },
    {
      "cell_type": "code",
      "metadata": {
        "id": "93Ng0Sav34IN"
      },
      "source": [
        "fake=dfo[dfo['is_fake']==1]"
      ],
      "execution_count": 4,
      "outputs": []
    },
    {
      "cell_type": "markdown",
      "metadata": {
        "id": "zq5HouHdwgCa"
      },
      "source": [
        "Al final, se descargó el archivo con las cuentas falsas. Debido a que no se hizo algún tipo de modificación, la base de datos original queda sin cambios.\n",
        "\n",
        "---\n",
        "\n"
      ]
    },
    {
      "cell_type": "code",
      "metadata": {
        "id": "vZzzxtstwgv7"
      },
      "source": [
        "fake.to_csv(\"FakeAccounts.csv\",index=False)"
      ],
      "execution_count": 5,
      "outputs": []
    }
  ]
}